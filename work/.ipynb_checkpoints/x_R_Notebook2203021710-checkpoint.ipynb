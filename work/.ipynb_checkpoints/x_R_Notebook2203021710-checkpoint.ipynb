{
 "cells": [
  {
   "cell_type": "markdown",
   "id": "8d767fe2-49a4-470f-8ee3-d979a5dcd35d",
   "metadata": {
    "tags": []
   },
   "source": [
    "# test\n"
   ]
  }
 ],
 "metadata": {
  "kernelspec": {
   "display_name": "R",
   "language": "R",
   "name": "ir"
  },
  "language_info": {
   "codemirror_mode": "r",
   "file_extension": ".r",
   "mimetype": "text/x-r-source",
   "name": "R",
   "pygments_lexer": "r",
   "version": "4.1.2"
  }
 },
 "nbformat": 4,
 "nbformat_minor": 5
}
